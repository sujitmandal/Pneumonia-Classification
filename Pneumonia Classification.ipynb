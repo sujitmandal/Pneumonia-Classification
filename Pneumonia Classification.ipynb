{
 "cells": [
  {
   "cell_type": "markdown",
   "metadata": {},
   "source": [
    "# Import required libraries\n",
    "#This programe is create by Sujit Mandal\n",
    "\n",
    "Github: https://github.com/sujitmandal\n",
    "\n",
    "LinkedIn : https://www.linkedin.com/in/sujit-mandal-91215013a/\n",
    "\n",
    "Facebook : https://www.facebook.com/sujit.mandal.33671748\n",
    "\n",
    "Twitter : https://twitter.com/mandalsujit37"
   ]
  },
  {
   "cell_type": "code",
   "execution_count": 2,
   "metadata": {},
   "outputs": [],
   "source": [
    "#Import required libraries\n",
    "import os \n",
    "import cv2 \n",
    "import numpy as np \n",
    "from tqdm import tqdm\n",
    "import tensorflow as tf\n",
    "from random import shuffle \n",
    "from tensorflow import keras\n",
    "import matplotlib.pyplot as plt\n",
    "from tensorflow.keras import models, layers"
   ]
  },
  {
   "cell_type": "markdown",
   "metadata": {},
   "source": [
    "# Read The Dataset"
   ]
  },
  {
   "cell_type": "code",
   "execution_count": 3,
   "metadata": {},
   "outputs": [],
   "source": [
    "#Read The Dataset\n",
    "train_images = np.load('Dataset/64/train_images.npy')\n",
    "train_labels = np.load('Dataset/64/train_labels.npy')\n",
    "test_images = np.load('Dataset/64/test_images.npy')\n",
    "test_labels = np.load('Dataset/64/test_labels.npy')"
   ]
  },
  {
   "cell_type": "code",
   "execution_count": 4,
   "metadata": {},
   "outputs": [
    {
     "name": "stdout",
     "output_type": "stream",
     "text": [
      "(2930, 64, 64, 3)\n",
      "(2930, 1)\n",
      "(624, 64, 64, 3)\n",
      "(624, 1)\n"
     ]
    }
   ],
   "source": [
    "print(train_images.shape) \n",
    "print(train_labels.shape) \n",
    "print(test_images.shape)  \n",
    "print(test_labels.shape) "
   ]
  },
  {
   "cell_type": "markdown",
   "metadata": {},
   "source": [
    "# Enter The Image Size [32, 64, 128]"
   ]
  },
  {
   "cell_type": "code",
   "execution_count": 5,
   "metadata": {},
   "outputs": [],
   "source": [
    "image_size = 64\n",
    "#image_size = int(input('Enter The Image Size [32, 64, 128] :'))"
   ]
  },
  {
   "cell_type": "markdown",
   "metadata": {},
   "source": [
    "# Normalized "
   ]
  },
  {
   "cell_type": "code",
   "execution_count": 6,
   "metadata": {},
   "outputs": [],
   "source": [
    "#Normalized\n",
    "train_images = train_images / 255.0\n",
    "test_images = test_images / 255.0"
   ]
  },
  {
   "cell_type": "markdown",
   "metadata": {},
   "source": [
    "# Convolutional Neural Network(CNN) building"
   ]
  },
  {
   "cell_type": "code",
   "execution_count": 7,
   "metadata": {},
   "outputs": [],
   "source": [
    "#Convolutional Neural Network(CNN) building\n",
    "EPOCHS = 20\n",
    "\n",
    "def build_model():\n",
    "    model = models.Sequential()\n",
    "    model.add(layers.Conv2D(32, (3, 3), activation='relu', input_shape=(image_size, image_size, 3)))\n",
    "    model.add(layers.MaxPooling2D((2, 2)))\n",
    "    model.add(layers.Conv2D(64, (3, 3), activation='relu'))\n",
    "    model.add(layers.MaxPooling2D((2, 2)))\n",
    "    model.add(layers.Conv2D(64, (3, 3), activation='relu'))\n",
    "    \n",
    "    model.add(layers.Flatten())\n",
    "    model.add(layers.Dense(64, activation='relu'))\n",
    "    model.add(layers.Dense(10))\n",
    "    \n",
    "    model.compile(optimizer='adam',\n",
    "              loss=tf.keras.losses.SparseCategoricalCrossentropy(from_logits=True),\n",
    "              metrics=['accuracy'])\n",
    "        \n",
    "    return model\n",
    "        \n",
    "model = build_model()"
   ]
  },
  {
   "cell_type": "code",
   "execution_count": 8,
   "metadata": {},
   "outputs": [],
   "source": [
    "ch_path = ('save/64/cp.ckpt')\n",
    "cp_dir = os.path.dirname(ch_path)"
   ]
  },
  {
   "cell_type": "code",
   "execution_count": 8,
   "metadata": {},
   "outputs": [],
   "source": [
    "cp_callback = tf.keras.callbacks.ModelCheckpoint(ch_path,\n",
    "                                                 save_weights_only = True,\n",
    "                                                 verbose = 1)\n",
    "model = build_model()"
   ]
  },
  {
   "cell_type": "markdown",
   "metadata": {},
   "source": [
    "# Train the model"
   ]
  },
  {
   "cell_type": "code",
   "execution_count": 9,
   "metadata": {},
   "outputs": [
    {
     "name": "stdout",
     "output_type": "stream",
     "text": [
      "Epoch 1/20\n",
      "92/92 [==============================] - ETA: 0s - loss: 0.4452 - accuracy: 0.7922\n",
      "Epoch 00001: saving model to save/64/cp.ckpt\n",
      "92/92 [==============================] - 14s 155ms/step - loss: 0.4452 - accuracy: 0.7922 - val_loss: 0.4425 - val_accuracy: 0.7949\n",
      "Epoch 2/20\n",
      "92/92 [==============================] - ETA: 0s - loss: 0.1609 - accuracy: 0.9379\n",
      "Epoch 00002: saving model to save/64/cp.ckpt\n",
      "92/92 [==============================] - 15s 162ms/step - loss: 0.1609 - accuracy: 0.9379 - val_loss: 0.3881 - val_accuracy: 0.8301\n",
      "Epoch 3/20\n",
      "92/92 [==============================] - ETA: 0s - loss: 0.1227 - accuracy: 0.9529\n",
      "Epoch 00003: saving model to save/64/cp.ckpt\n",
      "92/92 [==============================] - 20s 221ms/step - loss: 0.1227 - accuracy: 0.9529 - val_loss: 0.7926 - val_accuracy: 0.7276\n",
      "Epoch 4/20\n",
      "92/92 [==============================] - ETA: 0s - loss: 0.1031 - accuracy: 0.9601\n",
      "Epoch 00004: saving model to save/64/cp.ckpt\n",
      "92/92 [==============================] - 16s 178ms/step - loss: 0.1031 - accuracy: 0.9601 - val_loss: 0.4291 - val_accuracy: 0.8429\n",
      "Epoch 5/20\n",
      "92/92 [==============================] - ETA: 0s - loss: 0.0751 - accuracy: 0.9741\n",
      "Epoch 00005: saving model to save/64/cp.ckpt\n",
      "92/92 [==============================] - 16s 175ms/step - loss: 0.0751 - accuracy: 0.9741 - val_loss: 0.5434 - val_accuracy: 0.8333\n",
      "Epoch 6/20\n",
      "92/92 [==============================] - ETA: 0s - loss: 0.0690 - accuracy: 0.9741\n",
      "Epoch 00006: saving model to save/64/cp.ckpt\n",
      "92/92 [==============================] - 17s 182ms/step - loss: 0.0690 - accuracy: 0.9741 - val_loss: 0.5924 - val_accuracy: 0.7901\n",
      "Epoch 7/20\n",
      "92/92 [==============================] - ETA: 0s - loss: 0.0596 - accuracy: 0.9758\n",
      "Epoch 00007: saving model to save/64/cp.ckpt\n",
      "92/92 [==============================] - 17s 182ms/step - loss: 0.0596 - accuracy: 0.9758 - val_loss: 0.8278 - val_accuracy: 0.7965\n",
      "Epoch 8/20\n",
      "92/92 [==============================] - ETA: 0s - loss: 0.0567 - accuracy: 0.9809\n",
      "Epoch 00008: saving model to save/64/cp.ckpt\n",
      "92/92 [==============================] - 19s 203ms/step - loss: 0.0567 - accuracy: 0.9809 - val_loss: 0.9248 - val_accuracy: 0.8013\n",
      "Epoch 9/20\n",
      "92/92 [==============================] - ETA: 0s - loss: 0.0539 - accuracy: 0.9805\n",
      "Epoch 00009: saving model to save/64/cp.ckpt\n",
      "92/92 [==============================] - 21s 229ms/step - loss: 0.0539 - accuracy: 0.9805 - val_loss: 1.1806 - val_accuracy: 0.7676\n",
      "Epoch 10/20\n",
      "92/92 [==============================] - ETA: 0s - loss: 0.0448 - accuracy: 0.9853\n",
      "Epoch 00010: saving model to save/64/cp.ckpt\n",
      "92/92 [==============================] - 22s 237ms/step - loss: 0.0448 - accuracy: 0.9853 - val_loss: 1.2018 - val_accuracy: 0.7772\n",
      "Epoch 11/20\n",
      "92/92 [==============================] - ETA: 0s - loss: 0.0582 - accuracy: 0.9785\n",
      "Epoch 00011: saving model to save/64/cp.ckpt\n",
      "92/92 [==============================] - 25s 267ms/step - loss: 0.0582 - accuracy: 0.9785 - val_loss: 1.1571 - val_accuracy: 0.7580\n",
      "Epoch 12/20\n",
      "92/92 [==============================] - ETA: 0s - loss: 0.0516 - accuracy: 0.9795\n",
      "Epoch 00012: saving model to save/64/cp.ckpt\n",
      "92/92 [==============================] - 23s 249ms/step - loss: 0.0516 - accuracy: 0.9795 - val_loss: 0.9733 - val_accuracy: 0.7885\n",
      "Epoch 13/20\n",
      "92/92 [==============================] - ETA: 0s - loss: 0.0333 - accuracy: 0.9874\n",
      "Epoch 00013: saving model to save/64/cp.ckpt\n",
      "92/92 [==============================] - 23s 247ms/step - loss: 0.0333 - accuracy: 0.9874 - val_loss: 0.7000 - val_accuracy: 0.8061\n",
      "Epoch 14/20\n",
      "92/92 [==============================] - ETA: 0s - loss: 0.0272 - accuracy: 0.9901\n",
      "Epoch 00014: saving model to save/64/cp.ckpt\n",
      "92/92 [==============================] - 17s 189ms/step - loss: 0.0272 - accuracy: 0.9901 - val_loss: 1.4658 - val_accuracy: 0.7644\n",
      "Epoch 15/20\n",
      "92/92 [==============================] - ETA: 0s - loss: 0.0350 - accuracy: 0.9853\n",
      "Epoch 00015: saving model to save/64/cp.ckpt\n",
      "92/92 [==============================] - 16s 169ms/step - loss: 0.0350 - accuracy: 0.9853 - val_loss: 1.2709 - val_accuracy: 0.7869\n",
      "Epoch 16/20\n",
      "92/92 [==============================] - ETA: 0s - loss: 0.0189 - accuracy: 0.9932\n",
      "Epoch 00016: saving model to save/64/cp.ckpt\n",
      "92/92 [==============================] - 15s 168ms/step - loss: 0.0189 - accuracy: 0.9932 - val_loss: 1.3078 - val_accuracy: 0.7837\n",
      "Epoch 17/20\n",
      "92/92 [==============================] - ETA: 0s - loss: 0.0164 - accuracy: 0.9935\n",
      "Epoch 00017: saving model to save/64/cp.ckpt\n",
      "92/92 [==============================] - 22s 244ms/step - loss: 0.0164 - accuracy: 0.9935 - val_loss: 1.4192 - val_accuracy: 0.8077\n",
      "Epoch 18/20\n",
      "92/92 [==============================] - ETA: 0s - loss: 0.0319 - accuracy: 0.9898\n",
      "Epoch 00018: saving model to save/64/cp.ckpt\n",
      "92/92 [==============================] - 18s 192ms/step - loss: 0.0319 - accuracy: 0.9898 - val_loss: 0.7451 - val_accuracy: 0.8349\n",
      "Epoch 19/20\n",
      "92/92 [==============================] - ETA: 0s - loss: 0.0165 - accuracy: 0.9945\n",
      "Epoch 00019: saving model to save/64/cp.ckpt\n",
      "92/92 [==============================] - 22s 238ms/step - loss: 0.0165 - accuracy: 0.9945 - val_loss: 1.0258 - val_accuracy: 0.8269\n",
      "Epoch 20/20\n",
      "92/92 [==============================] - ETA: 0s - loss: 0.0130 - accuracy: 0.9966\n",
      "Epoch 00020: saving model to save/64/cp.ckpt\n",
      "92/92 [==============================] - 25s 267ms/step - loss: 0.0130 - accuracy: 0.9966 - val_loss: 1.1139 - val_accuracy: 0.8349\n"
     ]
    }
   ],
   "source": [
    "#Train the model\n",
    "history = model.fit(train_images, train_labels, epochs=EPOCHS, \n",
    "                    validation_data=(test_images, test_labels), callbacks = [cp_callback])"
   ]
  },
  {
   "cell_type": "markdown",
   "metadata": {},
   "source": [
    "# Plot The Model "
   ]
  },
  {
   "cell_type": "code",
   "execution_count": 10,
   "metadata": {},
   "outputs": [
    {
     "name": "stdout",
     "output_type": "stream",
     "text": [
      "20/20 - 1s - loss: 1.1139 - accuracy: 0.8349\n",
      "Accuracy: 83.49%\n"
     ]
    },
    {
     "data": {
      "image/png": "[encoded data removed]",
      "text/plain": [
       "<Figure size 432x288 with 1 Axes>"
      ]
     },
     "metadata": {
      "needs_background": "light"
     },
     "output_type": "display_data"
    }
   ],
   "source": [
    "#Plot The Model \n",
    "plt.plot(history.history['accuracy'], label='accuracy')\n",
    "plt.plot(history.history['val_accuracy'], label = 'val_accuracy')\n",
    "plt.xlabel('Epoch')\n",
    "plt.ylabel('Accuracy')\n",
    "plt.ylim([0.5, 1])\n",
    "plt.legend(loc='lower right')\n",
    "\n",
    "test_loss, test_acc = model.evaluate(test_images,  test_labels, verbose=2)\n",
    "print('Accuracy: {:5.2f}%'.format(100*test_acc))"
   ]
  },
  {
   "cell_type": "code",
   "execution_count": 11,
   "metadata": {},
   "outputs": [
    {
     "name": "stdout",
     "output_type": "stream",
     "text": [
      "20/20 [==============================] - 1s 72ms/step - loss: 2.2688 - accuracy: 0.0048\n",
      "restored model, accuracy:  0.48%\n"
     ]
    }
   ],
   "source": [
    "model = build_model()\n",
    "loss, acc = model.evaluate(test_images, test_labels)\n",
    "print('restored model, accuracy: {:5.2f}%'.format(100*acc))"
   ]
  },
  {
   "cell_type": "code",
   "execution_count": 12,
   "metadata": {},
   "outputs": [
    {
     "name": "stdout",
     "output_type": "stream",
     "text": [
      "20/20 [==============================] - 1s 67ms/step - loss: 1.1139 - accuracy: 0.8349\n",
      "restored model, accuracy: 83.49%\n"
     ]
    }
   ],
   "source": [
    "model.load_weights(ch_path)\n",
    "loss, acc = model.evaluate(test_images, test_labels)\n",
    "print('restored model, accuracy: {:5.2f}%'.format(100*acc))"
   ]
  },
  {
   "cell_type": "code",
   "execution_count": 13,
   "metadata": {},
   "outputs": [],
   "source": [
    "ch_path_2 = ('save/64/cp-{epoch:04d}.ckpt')\n",
    "cp_dir_2 = os.path.dirname(ch_path_2)"
   ]
  },
  {
   "cell_type": "code",
   "execution_count": 14,
   "metadata": {},
   "outputs": [
    {
     "name": "stdout",
     "output_type": "stream",
     "text": [
      "WARNING:tensorflow:`period` argument is deprecated. Please use `save_freq` to specify the frequency in number of batches seen.\n"
     ]
    }
   ],
   "source": [
    "cp_callback_2 = tf.keras.callbacks.ModelCheckpoint(ch_path_2, \n",
    "                                                   save_weights_only =  True, \n",
    "                                                   verbose = 1,\n",
    "                                                   period = 5)"
   ]
  },
  {
   "cell_type": "code",
   "execution_count": 15,
   "metadata": {},
   "outputs": [
    {
     "name": "stdout",
     "output_type": "stream",
     "text": [
      "WARNING:tensorflow:Unresolved object in checkpoint: (root).optimizer.iter\n",
      "WARNING:tensorflow:Unresolved object in checkpoint: (root).optimizer.beta_1\n",
      "WARNING:tensorflow:Unresolved object in checkpoint: (root).optimizer.beta_2\n",
      "WARNING:tensorflow:Unresolved object in checkpoint: (root).optimizer.decay\n",
      "WARNING:tensorflow:Unresolved object in checkpoint: (root).optimizer.learning_rate\n",
      "WARNING:tensorflow:A checkpoint was restored (e.g. tf.train.Checkpoint.restore or tf.keras.Model.load_weights) but not all checkpointed values were used. See above for specific issues. Use expect_partial() on the load status object, e.g. tf.train.Checkpoint.restore(...).expect_partial(), to silence these warnings, or use assert_consumed() to make the check explicit. See https://www.tensorflow.org/guide/checkpoint#loading_mechanics for details.\n",
      "\n",
      "Epoch 00005: saving model to save/64/cp-0005.ckpt\n",
      "\n",
      "Epoch 00010: saving model to save/64/cp-0010.ckpt\n",
      "\n",
      "Epoch 00015: saving model to save/64/cp-0015.ckpt\n",
      "\n",
      "Epoch 00020: saving model to save/64/cp-0020.ckpt\n"
     ]
    }
   ],
   "source": [
    "model = build_model()\n",
    "#Train the model\n",
    "history_2 = model.fit(train_images, train_labels, \n",
    "                          epochs=EPOCHS, \n",
    "                      validation_data=(test_images, test_labels), \n",
    "                      callbacks = [cp_callback_2],\n",
    "                      verbose = 0\n",
    "                       )"
   ]
  },
  {
   "cell_type": "code",
   "execution_count": 16,
   "metadata": {},
   "outputs": [
    {
     "data": {
      "text/plain": [
       "'save/64/cp-0020.ckpt'"
      ]
     },
     "execution_count": 16,
     "metadata": {},
     "output_type": "execute_result"
    }
   ],
   "source": [
    "latest_model = tf.train.latest_checkpoint(cp_dir_2)\n",
    "latest_model"
   ]
  },
  {
   "cell_type": "markdown",
   "metadata": {},
   "source": [
    "# save and restore"
   ]
  },
  {
   "cell_type": "code",
   "execution_count": 17,
   "metadata": {},
   "outputs": [
    {
     "name": "stdout",
     "output_type": "stream",
     "text": [
      "20/20 [==============================] - 1s 50ms/step - loss: 1.7389 - accuracy: 0.8125\n",
      "restored model, accuracy: 81.25%\n"
     ]
    }
   ],
   "source": [
    "#save\n",
    "model.save_weights('./save/64/my_save')\n",
    "#restore\n",
    "model = build_model()\n",
    "model.load_weights('./save/64/my_save')\n",
    "\n",
    "loss, acc = model.evaluate(test_images, test_labels)\n",
    "print('restored model, accuracy: {:5.2f}%'.format(100*acc))"
   ]
  },
  {
   "cell_type": "markdown",
   "metadata": {},
   "source": [
    "# save entire model to a HDF5 file"
   ]
  },
  {
   "cell_type": "code",
   "execution_count": 18,
   "metadata": {},
   "outputs": [
    {
     "name": "stdout",
     "output_type": "stream",
     "text": [
      "Epoch 1/15\n",
      "92/92 [==============================] - 16s 169ms/step - loss: 0.5020 - accuracy: 0.7512\n",
      "Epoch 2/15\n",
      "92/92 [==============================] - 15s 162ms/step - loss: 0.1826 - accuracy: 0.9283\n",
      "Epoch 3/15\n",
      "92/92 [==============================] - 15s 158ms/step - loss: 0.1439 - accuracy: 0.9444\n",
      "Epoch 4/15\n",
      "92/92 [==============================] - 15s 161ms/step - loss: 0.1117 - accuracy: 0.9553\n",
      "Epoch 5/15\n",
      "92/92 [==============================] - 15s 160ms/step - loss: 0.0833 - accuracy: 0.9669\n",
      "Epoch 6/15\n",
      "92/92 [==============================] - 15s 161ms/step - loss: 0.0766 - accuracy: 0.9683\n",
      "Epoch 7/15\n",
      "92/92 [==============================] - 15s 161ms/step - loss: 0.0740 - accuracy: 0.9737\n",
      "Epoch 8/15\n",
      "92/92 [==============================] - 15s 162ms/step - loss: 0.0632 - accuracy: 0.9754\n",
      "Epoch 9/15\n",
      "92/92 [==============================] - 15s 161ms/step - loss: 0.0657 - accuracy: 0.9730\n",
      "Epoch 10/15\n",
      "92/92 [==============================] - 15s 159ms/step - loss: 0.0529 - accuracy: 0.9788\n",
      "Epoch 11/15\n",
      "92/92 [==============================] - 15s 160ms/step - loss: 0.0537 - accuracy: 0.9788\n",
      "Epoch 12/15\n",
      "92/92 [==============================] - 15s 162ms/step - loss: 0.0519 - accuracy: 0.9795\n",
      "Epoch 13/15\n",
      "92/92 [==============================] - 15s 161ms/step - loss: 0.0482 - accuracy: 0.9792\n",
      "Epoch 14/15\n",
      "92/92 [==============================] - 15s 161ms/step - loss: 0.0372 - accuracy: 0.9870\n",
      "Epoch 15/15\n",
      "92/92 [==============================] - 15s 162ms/step - loss: 0.0383 - accuracy: 0.9870\n"
     ]
    }
   ],
   "source": [
    "model = build_model()\n",
    "\n",
    "model.fit(train_images, train_labels, epochs=15)\n",
    "\n",
    "#save entire model to a HDF5 file\n",
    "model.save('saved model/64/my_model.h5')"
   ]
  },
  {
   "cell_type": "markdown",
   "metadata": {},
   "source": [
    "# Load model"
   ]
  },
  {
   "cell_type": "code",
   "execution_count": 19,
   "metadata": {},
   "outputs": [
    {
     "name": "stdout",
     "output_type": "stream",
     "text": [
      "Model: \"sequential_5\"\n",
      "_________________________________________________________________\n",
      "Layer (type)                 Output Shape              Param #   \n",
      "=================================================================\n",
      "conv2d_15 (Conv2D)           (None, 62, 62, 32)        896       \n",
      "_________________________________________________________________\n",
      "max_pooling2d_10 (MaxPooling (None, 31, 31, 32)        0         \n",
      "_________________________________________________________________\n",
      "conv2d_16 (Conv2D)           (None, 29, 29, 64)        18496     \n",
      "_________________________________________________________________\n",
      "max_pooling2d_11 (MaxPooling (None, 14, 14, 64)        0         \n",
      "_________________________________________________________________\n",
      "conv2d_17 (Conv2D)           (None, 12, 12, 64)        36928     \n",
      "_________________________________________________________________\n",
      "flatten_5 (Flatten)          (None, 9216)              0         \n",
      "_________________________________________________________________\n",
      "dense_10 (Dense)             (None, 64)                589888    \n",
      "_________________________________________________________________\n",
      "dense_11 (Dense)             (None, 10)                650       \n",
      "=================================================================\n",
      "Total params: 646,858\n",
      "Trainable params: 646,858\n",
      "Non-trainable params: 0\n",
      "_________________________________________________________________\n",
      "20/20 [==============================] - 1s 52ms/step - loss: 0.6514 - accuracy: 0.8269\n",
      "restored model, accuracy: 82.69%\n"
     ]
    }
   ],
   "source": [
    "#Load model\n",
    "new_model = keras.models.load_model('saved model/64/my_model.h5')\n",
    "new_model.summary()\n",
    "\n",
    "loss, acc = new_model.evaluate(test_images, test_labels)\n",
    "print('restored model, accuracy: {:5.2f}%'.format(100*acc))"
   ]
  },
  {
   "cell_type": "code",
   "execution_count": 20,
   "metadata": {},
   "outputs": [
    {
     "data": {
      "image/png": "[encoded data removed]",
      "text/plain": [
       "<Figure size 432x288 with 1 Axes>"
      ]
     },
     "metadata": {
      "needs_background": "light"
     },
     "output_type": "display_data"
    }
   ],
   "source": [
    "#plot\n",
    "plt.plot(history_2.history['accuracy'], label='accuracy')\n",
    "plt.plot(history_2.history['val_accuracy'], label = 'val_accuracy')\n",
    "plt.xlabel('Epoch')\n",
    "plt.ylabel('Accuracy')\n",
    "plt.ylim([0.5, 1])\n",
    "plt.legend(loc='lower right')\n",
    "plt.show()"
   ]
  },
  {
   "cell_type": "markdown",
   "metadata": {},
   "source": [
    "# Final Model Accuracy"
   ]
  },
  {
   "cell_type": "code",
   "execution_count": 21,
   "metadata": {},
   "outputs": [
    {
     "name": "stdout",
     "output_type": "stream",
     "text": [
      "20/20 - 1s - loss: 0.6514 - accuracy: 0.8269\n",
      "Final Model, accuracy: 82.69%\n"
     ]
    }
   ],
   "source": [
    "test_loss, test_acc = new_model.evaluate(test_images,  test_labels, verbose=2)\n",
    "print('Final Model, accuracy: {:5.2f}%'.format(100*test_acc))"
   ]
  },
  {
   "cell_type": "code",
   "execution_count": null,
   "metadata": {},
   "outputs": [],
   "source": []
  }
 ],
 "metadata": {
  "kernelspec": {
   "display_name": "Python 3",
   "language": "python",
   "name": "python3"
  },
  "language_info": {
   "codemirror_mode": {
    "name": "ipython",
    "version": 3
   },
   "file_extension": ".py",
   "mimetype": "text/x-python",
   "name": "python",
   "nbconvert_exporter": "python",
   "pygments_lexer": "ipython3",
   "version": "3.6.10"
  }
 },
 "nbformat": 4,
 "nbformat_minor": 4
}
